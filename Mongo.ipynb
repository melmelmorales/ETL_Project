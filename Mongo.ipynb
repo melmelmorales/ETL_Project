{
 "cells": [
  {
   "cell_type": "markdown",
   "id": "064ef857",
   "metadata": {},
   "source": [
    "## Database and Jupyter Notebook Set Up"
   ]
  },
  {
   "cell_type": "code",
   "execution_count": 36,
   "id": "3ecdd008",
   "metadata": {},
   "outputs": [],
   "source": [
    "# Import dependencies\n",
    "from pymongo import MongoClient\n",
    "from pprint import pprint\n",
    "import json\n",
    "import os"
   ]
  },
  {
   "cell_type": "code",
   "execution_count": 37,
   "id": "59390c4a",
   "metadata": {},
   "outputs": [],
   "source": [
    "# Connect to MongoDB\n",
    "client = MongoClient(port=27017)\n",
    "db = client['national_parks_db']"
   ]
  },
  {
   "cell_type": "code",
   "execution_count": 39,
   "id": "55453324",
   "metadata": {},
   "outputs": [
    {
     "name": "stdout",
     "output_type": "stream",
     "text": [
      "Database 'national_parks_db' has been deleted.\n"
     ]
    }
   ],
   "source": [
    "# Drop the 'national_parks_db' database \n",
    "client.drop_database('national_parks_db') \n",
    "\n",
    "print(\"Database 'national_parks_db' has been deleted.\")"
   ]
  },
  {
   "cell_type": "code",
   "execution_count": 40,
   "id": "3b65e395",
   "metadata": {},
   "outputs": [],
   "source": [
    "# Connect to MongoDB\n",
    "client = MongoClient(port=27017)\n",
    "db = client['national_parks_db']"
   ]
  },
  {
   "cell_type": "code",
   "execution_count": 41,
   "id": "02b7e5a3",
   "metadata": {},
   "outputs": [],
   "source": [
    "# Function to load JSON data into MongoDB\n",
    "def load_json_to_mongo(collection_name, json_file):\n",
    "    with open(json_file) as file:\n",
    "        data = json.load(file)\n",
    "        collection = db[collection_name]\n",
    "        if isinstance(data, list):\n",
    "            collection.insert_many(data)\n",
    "        else:\n",
    "            collection.insert_one(data)"
   ]
  },
  {
   "cell_type": "code",
   "execution_count": 42,
   "id": "da372931",
   "metadata": {},
   "outputs": [
    {
     "name": "stdout",
     "output_type": "stream",
     "text": [
      "NPS_Activities_Fees/activities_parks.json exists.\n",
      "NPS_Activities_Fees/activities.json exists.\n",
      "NPS_Activities_Fees/feespasses.json exists.\n",
      "NPS Amenities Info/nps_amenities_data.json exists.\n",
      "NPS Amenities Info/nps_amen_place_data.json exists.\n",
      "NPS Amenities Info/nps_parks_data.json exists.\n",
      "NPS Amenities Info/nps_places_data.json exists.\n"
     ]
    }
   ],
   "source": [
    "# Define JSON files and their corresponding collections with folder paths\n",
    "json_files = {\n",
    "    'activities_parks': 'NPS_Activities_Fees/activities_parks.json',\n",
    "    'activities': 'NPS_Activities_Fees/activities.json',\n",
    "    'feespasses': 'NPS_Activities_Fees/feespasses.json',\n",
    "    'amenities': 'NPS Amenities Info/nps_amenities_data.json',\n",
    "    'amenities_places': 'NPS Amenities Info/nps_amen_place_data.json',\n",
    "    'parks_data': 'NPS Amenities Info/nps_parks_data.json',\n",
    "    'places_data': 'NPS Amenities Info/nps_places_data.json'\n",
    "}\n",
    "\n",
    "# Verify that the JSON files exist\n",
    "for json_file in json_files.values():\n",
    "    if os.path.exists(json_file):\n",
    "        print(f\"{json_file} exists.\")\n",
    "    else:\n",
    "        print(f\"{json_file} does not exist.\")"
   ]
  },
  {
   "cell_type": "code",
   "execution_count": 43,
   "id": "e9928152",
   "metadata": {},
   "outputs": [
    {
     "name": "stdout",
     "output_type": "stream",
     "text": [
      "Data loaded successfully!\n"
     ]
    }
   ],
   "source": [
    "# Load JSON files into MongoDB collections\n",
    "for collection_name, json_file in json_files.items():\n",
    "    if os.path.exists(json_file):\n",
    "        load_json_to_mongo(collection_name, json_file)\n",
    "\n",
    "print(\"Data loaded successfully!\")"
   ]
  },
  {
   "cell_type": "code",
   "execution_count": 44,
   "id": "13de4d7c",
   "metadata": {},
   "outputs": [
    {
     "name": "stdout",
     "output_type": "stream",
     "text": [
      "Collections in the database:\n",
      "parks_data\n",
      "amenities\n",
      "places_data\n",
      "feespasses\n",
      "activities\n",
      "activities_parks\n",
      "amenities_places\n"
     ]
    }
   ],
   "source": [
    "# List all collections in the database\n",
    "collections = db.list_collection_names()\n",
    "print(\"Collections in the database:\")\n",
    "for collection in collections:\n",
    "    print(collection)\n"
   ]
  },
  {
   "cell_type": "code",
   "execution_count": 45,
   "id": "60d2dece",
   "metadata": {},
   "outputs": [
    {
     "data": {
      "text/plain": [
       "{'_id': ObjectId('6699e9885c978184f6de2366'),\n",
       " 'amenity_id': 'A1B0AD01-740C-41E7-8412-FBBEDD5F1443',\n",
       " 'amenity_name': 'ATM/Cash Machine',\n",
       " 'amenity_category': 'Convenience, Souvenirs and Supplies'}"
      ]
     },
     "execution_count": 45,
     "metadata": {},
     "output_type": "execute_result"
    }
   ],
   "source": [
    "# review a document in the amenities collection\n",
    "db.amenities.find_one()"
   ]
  },
  {
   "cell_type": "code",
   "execution_count": 46,
   "id": "d83e16b5",
   "metadata": {},
   "outputs": [
    {
     "data": {
      "text/plain": [
       "{'_id': ObjectId('6699e9885c978184f6de2398'),\n",
       " 'amenity_id': 'A1B0AD01-740C-41E7-8412-FBBEDD5F1443',\n",
       " 'amenity_name': 'ATM/Cash Machine',\n",
       " 'park_code': 'badl',\n",
       " 'park_name': 'Badlands National Park',\n",
       " 'park_states': 'SD',\n",
       " 'park_designation': 'National Park',\n",
       " 'park_url': 'http://www.nps.gov/badl/'}"
      ]
     },
     "execution_count": 46,
     "metadata": {},
     "output_type": "execute_result"
    }
   ],
   "source": [
    "# review a document in the amenities_places collection\n",
    "db.amenities_places.find_one()"
   ]
  },
  {
   "cell_type": "code",
   "execution_count": 47,
   "id": "c6a7924e",
   "metadata": {},
   "outputs": [
    {
     "data": {
      "text/plain": [
       "{'_id': ObjectId('6699e9885c978184f6de2dad'),\n",
       " 'park_id': '77E0D7F0-1942-494A-ACE2-9004D2BDC59E',\n",
       " 'park_url': 'https://www.nps.gov/abli/index.htm',\n",
       " 'park_name': 'Abraham Lincoln Birthplace National Historical Park',\n",
       " 'park_code': 'abli',\n",
       " 'park_latitude': '37.5858662',\n",
       " 'park_longitude': '-85.67330523',\n",
       " 'park_designation': 'National Historical Park'}"
      ]
     },
     "execution_count": 47,
     "metadata": {},
     "output_type": "execute_result"
    }
   ],
   "source": [
    "# review a document in the parks_data collection\n",
    "db.parks_data.find_one()"
   ]
  },
  {
   "cell_type": "code",
   "execution_count": 48,
   "id": "9a2cb761",
   "metadata": {},
   "outputs": [
    {
     "data": {
      "text/plain": [
       "{'_id': ObjectId('6699e9885c978184f6de2ddf'),\n",
       " 'place_id': '869014EF-C785-42B5-9F7E-891AACBE7ED4',\n",
       " 'park_url': 'https://www.nps.gov/bost/index.htm',\n",
       " 'park_name': 'Boston National Historical Park',\n",
       " 'park_code': 'bost',\n",
       " 'park_latitude': '42.37399765017269',\n",
       " 'park_longitude': '-71.05610489845276',\n",
       " 'park_designation': 'National Historical Park'}"
      ]
     },
     "execution_count": 48,
     "metadata": {},
     "output_type": "execute_result"
    }
   ],
   "source": [
    "# review a document in the parks_data collection\n",
    "db.places_data.find_one()"
   ]
  },
  {
   "cell_type": "code",
   "execution_count": 49,
   "id": "6f72043e",
   "metadata": {},
   "outputs": [
    {
     "name": "stdout",
     "output_type": "stream",
     "text": [
      "Deleted 1989 documents from amenities_places collection.\n"
     ]
    }
   ],
   "source": [
    "# Find all documents that don't have the designation of \"National Park\" in the amenities_places collection\n",
    "non_national_park_docs_amenities = db['amenities_places'].find({'park_designation': {'$ne': 'National Park'}})\n",
    "\n",
    "# Store the IDs of the deleted documents from amenities_places collection\n",
    "non_national_park_ids_amenities = [doc['amenity_id'] for doc in non_national_park_docs_amenities]\n",
    "\n",
    "# Delete the documents from the amenities_places collection\n",
    "result_amenities = db['amenities_places'].delete_many({'park_designation': {'$ne': 'National Park'}})\n",
    "print(f\"Deleted {result_amenities.deleted_count} documents from amenities_places collection.\")"
   ]
  },
  {
   "cell_type": "code",
   "execution_count": 50,
   "id": "12826fe8",
   "metadata": {},
   "outputs": [
    {
     "name": "stdout",
     "output_type": "stream",
     "text": [
      "Deleted 44 documents from parks_data collection.\n"
     ]
    }
   ],
   "source": [
    "# Find all documents that don't have the designation of \"National Park\" in the parks_data collection\n",
    "non_national_park_docs_parks = db['parks_data'].find({'park_designation': {'$ne': 'National Park'}})\n",
    "\n",
    "# Store the IDs of the deleted documents from parks_data collection\n",
    "non_national_park_ids_parks = [doc['park_id'] for doc in non_national_park_docs_parks]\n",
    "\n",
    "# Delete the documents from the parks_data collection\n",
    "result_parks = db['parks_data'].delete_many({'park_designation': {'$ne': 'National Park'}})\n",
    "print(f\"Deleted {result_parks.deleted_count} documents from parks_data collection.\")"
   ]
  },
  {
   "cell_type": "code",
   "execution_count": 51,
   "id": "3137a94b",
   "metadata": {},
   "outputs": [
    {
     "name": "stdout",
     "output_type": "stream",
     "text": [
      "Deleted 38 documents from places_data collection.\n"
     ]
    }
   ],
   "source": [
    "# Find all documents that don't have the designation of \"National Park\" in the places collection\n",
    "non_national_park_docs_places = db['places_data'].find({'park_designation': {'$ne': 'National Park'}})\n",
    "\n",
    "# Store the IDs of the deleted documents from places collection\n",
    "non_national_park_ids_places = [doc.get('place_id') for doc in non_national_park_docs_places if 'place_id' in doc]\n",
    "\n",
    "# Delete the documents from the places collection\n",
    "result_places = db['places_data'].delete_many({'park_designation': {'$ne': 'National Park'}})\n",
    "print(f\"Deleted {result_places.deleted_count} documents from places_data collection.\")"
   ]
  },
  {
   "cell_type": "code",
   "execution_count": 53,
   "id": "5a78fe40",
   "metadata": {},
   "outputs": [
    {
     "name": "stdout",
     "output_type": "stream",
     "text": [
      "Deleted 47 documents from amenities collection.\n"
     ]
    }
   ],
   "source": [
    "# Delete the corresponding documents in the amenities collection\n",
    "if non_national_park_ids_amenities:\n",
    "    result = db['amenities'].delete_many({'amenity_id': {'$in': non_national_park_ids_amenities}})\n",
    "    print(f\"Deleted {result.deleted_count} documents from amenities collection.\")\n",
    "else:\n",
    "    print(\"No documents to delete from amenities collection.\")\n"
   ]
  },
  {
   "cell_type": "code",
   "execution_count": 54,
   "id": "66f18822",
   "metadata": {},
   "outputs": [
    {
     "name": "stdout",
     "output_type": "stream",
     "text": [
      "Number of documents in the amenities collection: 3\n",
      "Number of documents with the designation 'National Park' in the amenities_places collection: 592\n",
      "Number of documents with the designation 'National Park' in the parks_data collection: 6\n",
      "Number of documents with the designation 'National Park' in the places_data collection: 12\n"
     ]
    }
   ],
   "source": [
    "# Count the documents with the designation of \"National Park\" present in all three collections: amenities, amenities_places, and parks_data\n",
    "count_amenities = db['amenities'].count_documents({})\n",
    "count_amenities_places = db['amenities_places'].count_documents({'park_designation': 'National Park'})\n",
    "count_parks_data = db['parks_data'].count_documents({'park_designation': 'National Park'})\n",
    "count_places_data = db['places_data'].count_documents({'park_designation': 'National Park'})\n",
    "\n",
    "print(f\"Number of documents in the amenities collection: {count_amenities}\")\n",
    "print(f\"Number of documents with the designation 'National Park' in the amenities_places collection: {count_amenities_places}\")\n",
    "print(f\"Number of documents with the designation 'National Park' in the parks_data collection: {count_parks_data}\")\n",
    "print(f\"Number of documents with the designation 'National Park' in the places_data collection: {count_places_data}\")"
   ]
  }
 ],
 "metadata": {
  "kernelspec": {
   "display_name": "Python 3 (ipykernel)",
   "language": "python",
   "name": "python3"
  },
  "language_info": {
   "codemirror_mode": {
    "name": "ipython",
    "version": 3
   },
   "file_extension": ".py",
   "mimetype": "text/x-python",
   "name": "python",
   "nbconvert_exporter": "python",
   "pygments_lexer": "ipython3",
   "version": "3.10.14"
  }
 },
 "nbformat": 4,
 "nbformat_minor": 5
}
