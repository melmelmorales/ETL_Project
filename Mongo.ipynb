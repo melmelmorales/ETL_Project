{
 "cells": [
  {
   "cell_type": "markdown",
   "id": "064ef857",
   "metadata": {},
   "source": [
    "## Database and Jupyter Notebook Set Up"
   ]
  },
  {
   "cell_type": "code",
   "execution_count": 19,
   "id": "3ecdd008",
   "metadata": {},
   "outputs": [],
   "source": [
    "# Import dependencies\n",
    "from pymongo import MongoClient\n",
    "from pprint import pprint\n",
    "import json\n",
    "import os"
   ]
  },
  {
   "cell_type": "code",
   "execution_count": 20,
   "id": "59390c4a",
   "metadata": {},
   "outputs": [],
   "source": [
    "# Connect to MongoDB\n",
    "client = MongoClient(port=27017)\n",
    "db = client['national_parks_db']"
   ]
  },
  {
   "cell_type": "code",
   "execution_count": 21,
   "id": "02b7e5a3",
   "metadata": {},
   "outputs": [],
   "source": [
    "# Function to load JSON data into MongoDB\n",
    "def load_json_to_mongo(collection_name, json_file):\n",
    "    with open(json_file) as file:\n",
    "        data = json.load(file)\n",
    "        collection = db[collection_name]\n",
    "        if isinstance(data, list):\n",
    "            collection.insert_many(data)\n",
    "        else:\n",
    "            collection.insert_one(data)"
   ]
  },
  {
   "cell_type": "code",
   "execution_count": 25,
   "id": "da372931",
   "metadata": {},
   "outputs": [
    {
     "name": "stdout",
     "output_type": "stream",
     "text": [
      "NPS_Activities_Fees/activities_parks.json exists.\n",
      "NPS_Activities_Fees/activities.json exists.\n",
      "NPS_Activities_Fees/feespasses.json exists.\n",
      "NPS Amenities Info/nps_amenities_data.json exists.\n",
      "NPS Amenities Info/nps_amen_place_data.json exists.\n"
     ]
    }
   ],
   "source": [
    "# Define JSON files and their corresponding collections with folder paths\n",
    "json_files = {\n",
    "    'activities_parks': 'NPS_Activities_Fees/activities_parks.json',\n",
    "    'activities': 'NPS_Activities_Fees/activities.json',\n",
    "    'feespasses': 'NPS_Activities_Fees/feespasses.json',\n",
    "    'amenities': 'NPS Amenities Info/nps_amenities_data.json',\n",
    "    'amenities_places': 'NPS Amenities Info/nps_amen_place_data.json'\n",
    "}\n",
    "\n",
    "# Verify that the JSON files exist\n",
    "for json_file in json_files.values():\n",
    "    if os.path.exists(json_file):\n",
    "        print(f\"{json_file} exists.\")\n",
    "    else:\n",
    "        print(f\"{json_file} does not exist.\")"
   ]
  },
  {
   "cell_type": "code",
   "execution_count": 26,
   "id": "e9928152",
   "metadata": {},
   "outputs": [
    {
     "name": "stdout",
     "output_type": "stream",
     "text": [
      "Data loaded successfully!\n"
     ]
    }
   ],
   "source": [
    "# Load JSON files into MongoDB collections\n",
    "for collection_name, json_file in json_files.items():\n",
    "    if os.path.exists(json_file):\n",
    "        load_json_to_mongo(collection_name, json_file)\n",
    "\n",
    "print(\"Data loaded successfully!\")"
   ]
  },
  {
   "cell_type": "code",
   "execution_count": 27,
   "id": "13de4d7c",
   "metadata": {},
   "outputs": [
    {
     "name": "stdout",
     "output_type": "stream",
     "text": [
      "Collections in the database:\n",
      "amenities\n",
      "feespasses\n",
      "amenities_places\n",
      "activities_parks\n",
      "activities\n"
     ]
    }
   ],
   "source": [
    "# List all collections in the database\n",
    "collections = db.list_collection_names()\n",
    "print(\"Collections in the database:\")\n",
    "for collection in collections:\n",
    "    print(collection)\n"
   ]
  },
  {
   "cell_type": "code",
   "execution_count": null,
   "id": "60d2dece",
   "metadata": {},
   "outputs": [],
   "source": []
  }
 ],
 "metadata": {
  "kernelspec": {
   "display_name": "Python 3 (ipykernel)",
   "language": "python",
   "name": "python3"
  },
  "language_info": {
   "codemirror_mode": {
    "name": "ipython",
    "version": 3
   },
   "file_extension": ".py",
   "mimetype": "text/x-python",
   "name": "python",
   "nbconvert_exporter": "python",
   "pygments_lexer": "ipython3",
   "version": "3.10.14"
  }
 },
 "nbformat": 4,
 "nbformat_minor": 5
}
