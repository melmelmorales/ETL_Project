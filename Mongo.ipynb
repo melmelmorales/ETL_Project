{
 "cells": [
  {
   "cell_type": "markdown",
   "id": "064ef857",
   "metadata": {},
   "source": [
    "## Database and Jupyter Notebook Set Up"
   ]
  },
  {
   "cell_type": "code",
   "execution_count": 22,
   "id": "3ecdd008",
   "metadata": {},
   "outputs": [],
   "source": [
    "# Import dependencies\n",
    "from pymongo import MongoClient\n",
    "from pprint import pprint\n",
    "import json\n",
    "import os"
   ]
  },
  {
   "cell_type": "code",
   "execution_count": 23,
   "id": "59390c4a",
   "metadata": {},
   "outputs": [],
   "source": [
    "# Connect to MongoDB\n",
    "client = MongoClient(port=27017)\n",
    "db = client['national_parks_db']"
   ]
  },
  {
   "cell_type": "code",
   "execution_count": 24,
   "id": "02b7e5a3",
   "metadata": {},
   "outputs": [],
   "source": [
    "# Function to load JSON data into MongoDB\n",
    "def load_json_to_mongo(collection_name, json_file):\n",
    "    with open(json_file) as file:\n",
    "        data = json.load(file)\n",
    "        collection = db[collection_name]\n",
    "        if isinstance(data, list):\n",
    "            collection.insert_many(data)\n",
    "        else:\n",
    "            collection.insert_one(data)"
   ]
  },
  {
   "cell_type": "code",
   "execution_count": 25,
   "id": "da372931",
   "metadata": {},
   "outputs": [
    {
     "name": "stdout",
     "output_type": "stream",
     "text": [
      "NPS_Activities_Fees/activities_parks.json exists.\n",
      "NPS_Activities_Fees/activities.json exists.\n",
      "NPS_Activities_Fees/feespasses.json exists.\n",
      "NPS Amenities Info/nps_amenities_data.json exists.\n",
      "NPS Amenities Info/nps_amen_place_data.json exists.\n",
      "NPS Amenities Info/nps_parks_data.json exists.\n"
     ]
    }
   ],
   "source": [
    "# Define JSON files and their corresponding collections with folder paths\n",
    "json_files = {\n",
    "    'activities_parks': 'NPS_Activities_Fees/activities_parks.json',\n",
    "    'activities': 'NPS_Activities_Fees/activities.json',\n",
    "    'feespasses': 'NPS_Activities_Fees/feespasses.json',\n",
    "    'amenities': 'NPS Amenities Info/nps_amenities_data.json',\n",
    "    'amenities_places': 'NPS Amenities Info/nps_amen_place_data.json',\n",
    "    'parks_data': 'NPS Amenities Info/nps_parks_data.json'\n",
    "}\n",
    "\n",
    "# Verify that the JSON files exist\n",
    "for json_file in json_files.values():\n",
    "    if os.path.exists(json_file):\n",
    "        print(f\"{json_file} exists.\")\n",
    "    else:\n",
    "        print(f\"{json_file} does not exist.\")"
   ]
  },
  {
   "cell_type": "code",
   "execution_count": 26,
   "id": "e9928152",
   "metadata": {},
   "outputs": [
    {
     "name": "stdout",
     "output_type": "stream",
     "text": [
      "Data loaded successfully!\n"
     ]
    }
   ],
   "source": [
    "# Load JSON files into MongoDB collections\n",
    "for collection_name, json_file in json_files.items():\n",
    "    if os.path.exists(json_file):\n",
    "        load_json_to_mongo(collection_name, json_file)\n",
    "\n",
    "print(\"Data loaded successfully!\")"
   ]
  },
  {
   "cell_type": "code",
   "execution_count": 27,
   "id": "13de4d7c",
   "metadata": {},
   "outputs": [
    {
     "name": "stdout",
     "output_type": "stream",
     "text": [
      "Collections in the database:\n",
      "parks_data\n",
      "activities_parks\n",
      "activities\n",
      "amenities_places\n",
      "amenities\n",
      "feespasses\n"
     ]
    }
   ],
   "source": [
    "# List all collections in the database\n",
    "collections = db.list_collection_names()\n",
    "print(\"Collections in the database:\")\n",
    "for collection in collections:\n",
    "    print(collection)\n"
   ]
  },
  {
   "cell_type": "code",
   "execution_count": 28,
   "id": "60d2dece",
   "metadata": {},
   "outputs": [
    {
     "data": {
      "text/plain": [
       "{'_id': ObjectId('6699cff3fad2f62aef761634'),\n",
       " 'amenity_id': '0E2B9B01-9AC3-4AAF-A801-8027314BE863',\n",
       " 'amenity_name': 'Airboat Launch',\n",
       " 'amenity_category': 'Boating'}"
      ]
     },
     "execution_count": 28,
     "metadata": {},
     "output_type": "execute_result"
    }
   ],
   "source": [
    "# review a document in the amenities collection\n",
    "db.amenities.find_one()"
   ]
  },
  {
   "cell_type": "code",
   "execution_count": 29,
   "id": "d83e16b5",
   "metadata": {},
   "outputs": [
    {
     "data": {
      "text/plain": [
       "{'_id': ObjectId('6699cff3fad2f62aef761663'),\n",
       " 'amenity_id': 'A1B0AD01-740C-41E7-8412-FBBEDD5F1443',\n",
       " 'amenity_name': 'ATM/Cash Machine',\n",
       " 'park_code': 'badl',\n",
       " 'park_name': 'Badlands National Park',\n",
       " 'park_states': 'SD',\n",
       " 'park_designation': 'National Park',\n",
       " 'park_url': 'http://www.nps.gov/badl/'}"
      ]
     },
     "execution_count": 29,
     "metadata": {},
     "output_type": "execute_result"
    }
   ],
   "source": [
    "# review a document in the amenities_places collection\n",
    "db.amenities_places.find_one()"
   ]
  },
  {
   "cell_type": "code",
   "execution_count": 30,
   "id": "c6a7924e",
   "metadata": {},
   "outputs": [
    {
     "data": {
      "text/plain": [
       "{'_id': ObjectId('6699cff3fad2f62aef762078'),\n",
       " 'park_id': '77E0D7F0-1942-494A-ACE2-9004D2BDC59E',\n",
       " 'park_url': 'https://www.nps.gov/abli/index.htm',\n",
       " 'park_name': 'Abraham Lincoln Birthplace National Historical Park',\n",
       " 'park_code': 'abli',\n",
       " 'park_latitude': '37.5858662',\n",
       " 'park_longitude': '-85.67330523',\n",
       " 'park_designation': 'National Historical Park'}"
      ]
     },
     "execution_count": 30,
     "metadata": {},
     "output_type": "execute_result"
    }
   ],
   "source": [
    "# review a document in the parks_data collection\n",
    "db.parks_data.find_one()"
   ]
  },
  {
   "cell_type": "code",
   "execution_count": 31,
   "id": "3137a94b",
   "metadata": {},
   "outputs": [
    {
     "name": "stdout",
     "output_type": "stream",
     "text": [
      "Deleted 1989 documents from amenities_places collection.\n",
      "Deleted 88 documents from parks_data collection.\n"
     ]
    }
   ],
   "source": [
    "# Find all documents that don't have the designation of \"National Park\" in the amenities_places collection\n",
    "non_national_park_docs_amenities = db['amenities_places'].find({'park_designation': {'$ne': 'National Park'}})\n",
    "\n",
    "# Store the IDs of the deleted documents from amenities_places collection\n",
    "non_national_park_ids_amenities = [doc['amenity_id'] for doc in non_national_park_docs_amenities]\n",
    "\n",
    "# Delete the documents from the amenities_places collection\n",
    "result_amenities = db['amenities_places'].delete_many({'park_designation': {'$ne': 'National Park'}})\n",
    "print(f\"Deleted {result_amenities.deleted_count} documents from amenities_places collection.\")\n",
    "\n",
    "# Find all documents that don't have the designation of \"National Park\" in the parks_data collection\n",
    "non_national_park_docs_parks = db['parks_data'].find({'park_designation': {'$ne': 'National Park'}})\n",
    "\n",
    "# Store the IDs of the deleted documents from parks_data collection\n",
    "non_national_park_ids_parks = [doc['park_id'] for doc in non_national_park_docs_parks]\n",
    "\n",
    "# Delete the documents from the parks_data collection\n",
    "result_parks = db['parks_data'].delete_many({'park_designation': {'$ne': 'National Park'}})\n",
    "print(f\"Deleted {result_parks.deleted_count} documents from parks_data collection.\")"
   ]
  },
  {
   "cell_type": "code",
   "execution_count": 32,
   "id": "5a78fe40",
   "metadata": {},
   "outputs": [
    {
     "name": "stdout",
     "output_type": "stream",
     "text": [
      "Deleted 47 documents from amenities collection.\n"
     ]
    }
   ],
   "source": [
    "# Delete the corresponding documents in the amenities collection\n",
    "if non_national_park_ids:\n",
    "    result = db['amenities'].delete_many({'amenity_id': {'$in': non_national_park_ids}})\n",
    "    print(f\"Deleted {result.deleted_count} documents from amenities collection.\")\n",
    "else:\n",
    "    print(\"No documents to delete from amenities collection.\")\n"
   ]
  },
  {
   "cell_type": "code",
   "execution_count": 36,
   "id": "66f18822",
   "metadata": {},
   "outputs": [
    {
     "name": "stdout",
     "output_type": "stream",
     "text": [
      "Number of documents in the amenities collection: 6\n",
      "Number of documents with the designation 'National Park' in the amenities_places collection: 1184\n",
      "Number of documents with the designation 'National Park' in the parks_data collection: 12\n"
     ]
    }
   ],
   "source": [
    "# Count the documents with the designation of \"National Park\" present in all three collections: amenities, amenities_places, and parks_data\n",
    "count_amenities = db['amenities'].count_documents({})\n",
    "count_amenities_places = db['amenities_places'].count_documents({'park_designation': 'National Park'})\n",
    "count_parks_data = db['parks_data'].count_documents({'park_designation': 'National Park'})\n",
    "\n",
    "print(f\"Number of documents in the amenities collection: {count_amenities}\")\n",
    "print(f\"Number of documents with the designation 'National Park' in the amenities_places collection: {count_amenities_places}\")\n",
    "print(f\"Number of documents with the designation 'National Park' in the parks_data collection: {count_parks_data}\")"
   ]
  }
 ],
 "metadata": {
  "kernelspec": {
   "display_name": "Python 3 (ipykernel)",
   "language": "python",
   "name": "python3"
  },
  "language_info": {
   "codemirror_mode": {
    "name": "ipython",
    "version": 3
   },
   "file_extension": ".py",
   "mimetype": "text/x-python",
   "name": "python",
   "nbconvert_exporter": "python",
   "pygments_lexer": "ipython3",
   "version": "3.10.14"
  }
 },
 "nbformat": 4,
 "nbformat_minor": 5
}
