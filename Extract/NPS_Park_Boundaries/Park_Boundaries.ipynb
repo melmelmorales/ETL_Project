{
 "cells": [
  {
   "cell_type": "markdown",
   "id": "0507e1d3-fa2d-4e6a-a0e3-f7d48088d117",
   "metadata": {},
   "source": [
    "#  Source: https://www.nps.gov/subjects/developer/api-documentation.htm#/mapdata/parkboundaries"
   ]
  },
  {
   "cell_type": "code",
   "execution_count": 1,
   "id": "578e6770-e026-4704-837f-17dc3dfb2331",
   "metadata": {},
   "outputs": [],
   "source": [
    "# Dependencies\n",
    "import json\n",
    "import requests\n",
    "import pprint\n",
    "import pandas as pd\n",
    "from api_keys import api_key"
   ]
  },
  {
   "cell_type": "markdown",
   "id": "ca9e4a6c-00b6-43ea-8dfb-49d595f0dccd",
   "metadata": {},
   "source": [
    "## Here is the code to pull the entire list of park codes from \"activities/parks\" API"
   ]
  },
  {
   "cell_type": "code",
   "execution_count": 2,
   "id": "707d0c09-4dec-4325-8a7f-9ca4e1db0e39",
   "metadata": {},
   "outputs": [],
   "source": [
    "second_url = 'https://developer.nps.gov/api/v1/activities/parks?'\n",
    "\n",
    "query_second_url = second_url + \"&api_key=\" + api_key "
   ]
  },
  {
   "cell_type": "code",
   "execution_count": 3,
   "id": "465df9db-eb59-4e1f-bc1e-ecd6a860fe67",
   "metadata": {},
   "outputs": [],
   "source": [
    "second_response = requests.get(query_second_url)"
   ]
  },
  {
   "cell_type": "code",
   "execution_count": 4,
   "id": "d8bdefbf-71c6-4830-ab1c-05e89807c5ff",
   "metadata": {},
   "outputs": [],
   "source": [
    "second_data = second_response.json()"
   ]
  },
  {
   "cell_type": "code",
   "execution_count": 5,
   "id": "1d4d9318-9367-4bcb-8e11-d5000a2d6e6b",
   "metadata": {},
   "outputs": [
    {
     "data": {
      "text/plain": [
       "200"
      ]
     },
     "execution_count": 5,
     "metadata": {},
     "output_type": "execute_result"
    }
   ],
   "source": [
    "second_response.status_code"
   ]
  },
  {
   "cell_type": "code",
   "execution_count": 6,
   "id": "ffc853ef-c03e-43be-91ae-df843247e1e9",
   "metadata": {},
   "outputs": [],
   "source": [
    "# Get the articles from the response\n",
    "#print(json.dumps(second_data, indent=4, sort_keys=True))"
   ]
  },
  {
   "cell_type": "code",
   "execution_count": 7,
   "id": "75ce8ed0-1750-4b96-8453-854a0b35c8e2",
   "metadata": {},
   "outputs": [],
   "source": [
    "park_code_data = second_data.get('data',[])"
   ]
  },
  {
   "cell_type": "code",
   "execution_count": 8,
   "id": "4f701fc4-d43c-4696-b6ee-8005e94a9509",
   "metadata": {},
   "outputs": [],
   "source": [
    "parkCodes = []\n",
    "parkNames = []\n",
    "for park_categories in park_code_data:\n",
    "    parks = park_categories['parks']\n",
    "    for park in parks:\n",
    "        designation = park['designation']\n",
    "        if designation == 'National Park':\n",
    "            parkCodes.append(park['parkCode'])\n",
    "            parkNames.append(park['fullName'])"
   ]
  },
  {
   "cell_type": "code",
   "execution_count": 9,
   "id": "a25d186a-eff5-4f45-909f-99d0415bd2b8",
   "metadata": {},
   "outputs": [
    {
     "data": {
      "text/html": [
       "<div>\n",
       "<style scoped>\n",
       "    .dataframe tbody tr th:only-of-type {\n",
       "        vertical-align: middle;\n",
       "    }\n",
       "\n",
       "    .dataframe tbody tr th {\n",
       "        vertical-align: top;\n",
       "    }\n",
       "\n",
       "    .dataframe thead th {\n",
       "        text-align: right;\n",
       "    }\n",
       "</style>\n",
       "<table border=\"1\" class=\"dataframe\">\n",
       "  <thead>\n",
       "    <tr style=\"text-align: right;\">\n",
       "      <th></th>\n",
       "      <th>park_code</th>\n",
       "      <th>park_name</th>\n",
       "    </tr>\n",
       "  </thead>\n",
       "  <tbody>\n",
       "    <tr>\n",
       "      <th>0</th>\n",
       "      <td>acad</td>\n",
       "      <td>Acadia National Park</td>\n",
       "    </tr>\n",
       "    <tr>\n",
       "      <th>1</th>\n",
       "      <td>arch</td>\n",
       "      <td>Arches National Park</td>\n",
       "    </tr>\n",
       "    <tr>\n",
       "      <th>2</th>\n",
       "      <td>care</td>\n",
       "      <td>Capitol Reef National Park</td>\n",
       "    </tr>\n",
       "    <tr>\n",
       "      <th>3</th>\n",
       "      <td>cuva</td>\n",
       "      <td>Cuyahoga Valley National Park</td>\n",
       "    </tr>\n",
       "    <tr>\n",
       "      <th>4</th>\n",
       "      <td>glac</td>\n",
       "      <td>Glacier National Park</td>\n",
       "    </tr>\n",
       "    <tr>\n",
       "      <th>5</th>\n",
       "      <td>grca</td>\n",
       "      <td>Grand Canyon National Park</td>\n",
       "    </tr>\n",
       "    <tr>\n",
       "      <th>6</th>\n",
       "      <td>grsm</td>\n",
       "      <td>Great Smoky Mountains National Park</td>\n",
       "    </tr>\n",
       "    <tr>\n",
       "      <th>7</th>\n",
       "      <td>grte</td>\n",
       "      <td>Grand Teton National Park</td>\n",
       "    </tr>\n",
       "    <tr>\n",
       "      <th>8</th>\n",
       "      <td>havo</td>\n",
       "      <td>Hawaiʻi Volcanoes National Park</td>\n",
       "    </tr>\n",
       "    <tr>\n",
       "      <th>9</th>\n",
       "      <td>indu</td>\n",
       "      <td>Indiana Dunes National Park</td>\n",
       "    </tr>\n",
       "  </tbody>\n",
       "</table>\n",
       "</div>"
      ],
      "text/plain": [
       "  park_code                            park_name\n",
       "0      acad                 Acadia National Park\n",
       "1      arch                 Arches National Park\n",
       "2      care           Capitol Reef National Park\n",
       "3      cuva        Cuyahoga Valley National Park\n",
       "4      glac                Glacier National Park\n",
       "5      grca           Grand Canyon National Park\n",
       "6      grsm  Great Smoky Mountains National Park\n",
       "7      grte            Grand Teton National Park\n",
       "8      havo      Hawaiʻi Volcanoes National Park\n",
       "9      indu          Indiana Dunes National Park"
      ]
     },
     "execution_count": 9,
     "metadata": {},
     "output_type": "execute_result"
    }
   ],
   "source": [
    "# Create a DataFrame from the extracted data\n",
    "nps_parks_df = pd.DataFrame({\n",
    "    'park_code': parkCodes,\n",
    "    'park_name': parkNames\n",
    "})\n",
    "\n",
    "# Display the DataFrame\n",
    "nps_parks_df.head(10)"
   ]
  },
  {
   "cell_type": "code",
   "execution_count": 10,
   "id": "880a5002-4025-4820-95b4-3e12821f4854",
   "metadata": {},
   "outputs": [
    {
     "name": "stdout",
     "output_type": "stream",
     "text": [
      "DataFrame exported to nps_park_codes_data.csv\n",
      "DataFrame exported to nps_park_codes_data.json\n"
     ]
    }
   ],
   "source": [
    "# Export park code and park name data\n",
    "\n",
    "# Export DataFrame to a CSV file\n",
    "nps_parks_df.to_csv('nps_park_codes_data.csv', index=False)\n",
    "print(\"DataFrame exported to nps_park_codes_data.csv\")\n",
    "\n",
    "# Export DataFrame to a JSON file\n",
    "nps_parks_df.to_json('nps_park_codes_data.json', orient='records')\n",
    "print(\"DataFrame exported to nps_park_codes_data.json\")"
   ]
  },
  {
   "cell_type": "markdown",
   "id": "11314aa2-9048-4ab3-bd9d-42ff680bfc69",
   "metadata": {},
   "source": [
    "## Extract geocoordinates data for all entries - Export files too large so the following section is commented out"
   ]
  },
  {
   "cell_type": "code",
   "execution_count": 11,
   "id": "59df0858-17ce-4365-bf72-f685b1fcd671",
   "metadata": {},
   "outputs": [],
   "source": [
    "# # Call geocoordinates of all entries\n",
    "\n",
    "# coordinate_list = []\n",
    "# codes = []\n",
    "\n",
    "# for code in parkCodes:\n",
    "    \n",
    "#     #config information\n",
    "#     url = 'https://developer.nps.gov/api/v1/mapdata/parkboundaries/'\n",
    "\n",
    "#     #build query url\n",
    "#     query_url = url + code + \"?&api_key=\" + api_key \n",
    "    \n",
    "#     # Get NPS park boundary (pb) data\n",
    "#     response = requests.get(query_url)\n",
    "#     data = response.json()\n",
    "\n",
    "#     #Check if geometry exists and is not 'null'\n",
    "    \n",
    "#     if 'geometry' in data and data['geometry'] is not None:\n",
    "#         jsonCoords = data['geometry']['coordinates']\n",
    "\n",
    "#         codes.append(code)\n",
    "#         coordinate_list.append(jsonCoords)\n",
    "        \n",
    "# #print(json.dumps(coordinate_list, indent=4, sort_keys=True))"
   ]
  },
  {
   "cell_type": "code",
   "execution_count": 12,
   "id": "9749d37d-5703-466f-9b3d-5dc8d6b9f1e1",
   "metadata": {},
   "outputs": [],
   "source": [
    "# # Create a DataFrame from the extracted data\n",
    "# nps_geocoords_df = pd.DataFrame({\n",
    "#     'park_code': codes,\n",
    "#     'park_geocodes': coordinate_list\n",
    "# })\n",
    "\n",
    "# # Display the DataFrame\n",
    "# nps_geocoords_df.head(10)"
   ]
  },
  {
   "cell_type": "code",
   "execution_count": 13,
   "id": "a7c02c47-0a13-49d0-b356-8fcf581dff49",
   "metadata": {},
   "outputs": [],
   "source": [
    "# # Export park code and park name data\n",
    "\n",
    "# # Export DataFrame to a CSV file\n",
    "# nps_geocoords_df.to_csv('nps_geodata.csv', index=False)\n",
    "# print(\"DataFrame exported to nps_geodata.csv\")\n",
    "\n",
    "# # Export DataFrame to a JSON file\n",
    "# nps_geocoords_df.to_json('nps_geodata.json', orient='records')\n",
    "# print(\"DataFrame exported to nps_geodata.json\")"
   ]
  }
 ],
 "metadata": {
  "kernelspec": {
   "display_name": "Python 3 (ipykernel)",
   "language": "python",
   "name": "python3"
  },
  "language_info": {
   "codemirror_mode": {
    "name": "ipython",
    "version": 3
   },
   "file_extension": ".py",
   "mimetype": "text/x-python",
   "name": "python",
   "nbconvert_exporter": "python",
   "pygments_lexer": "ipython3",
   "version": "3.10.14"
  }
 },
 "nbformat": 4,
 "nbformat_minor": 5
}
