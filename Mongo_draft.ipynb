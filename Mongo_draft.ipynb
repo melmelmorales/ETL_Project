{
 "cells": [
  {
   "cell_type": "markdown",
   "id": "064ef857",
   "metadata": {},
   "source": [
    "## Database and Jupyter Notebook Set Up"
   ]
  },
  {
   "cell_type": "code",
   "execution_count": 1,
   "id": "3ecdd008",
   "metadata": {},
   "outputs": [],
   "source": [
    "# Import dependencies\n",
    "from pymongo import MongoClient\n",
    "from pprint import pprint\n",
    "import json\n",
    "import os"
   ]
  },
  {
   "cell_type": "code",
   "execution_count": null,
   "id": "175bc80c",
   "metadata": {},
   "outputs": [],
   "source": [
    "# Connect to MongoDB\n",
    "client = MongoClient('mongodb://localhost:27017/')\n",
    "\n",
    "# Drop the 'national_parks_db' database\n",
    "client.drop_database('national_parks_db')\n",
    "\n",
    "print(\"Database 'national_parks_db' has been deleted.\")"
   ]
  },
  {
   "cell_type": "code",
   "execution_count": 3,
   "id": "59390c4a",
   "metadata": {},
   "outputs": [],
   "source": [
    "# Connect to MongoDB\n",
    "client = MongoClient(port=27017)\n",
    "db = client['national_parks_db']"
   ]
  },
  {
   "cell_type": "code",
   "execution_count": 4,
   "id": "02b7e5a3",
   "metadata": {},
   "outputs": [],
   "source": [
    "# Function to load JSON data into MongoDB\n",
    "def load_json_to_mongo(collection_name, json_file):\n",
    "    with open(json_file) as file:\n",
    "        data = json.load(file)\n",
    "        collection = db[collection_name]\n",
    "        if isinstance(data, list):\n",
    "            collection.insert_many(data)\n",
    "        else:\n",
    "            collection.insert_one(data)"
   ]
  },
  {
   "cell_type": "code",
   "execution_count": 5,
   "id": "da372931",
   "metadata": {},
   "outputs": [
    {
     "name": "stdout",
     "output_type": "stream",
     "text": [
      "NPS_Activities_Fees/activities_parks.json exists.\n",
      "NPS_Activities_Fees/activities.json exists.\n",
      "NPS_Activities_Fees/feespasses.json exists.\n",
      "NPS Amenities Info/nps_amenities_data.json exists.\n",
      "NPS Amenities Info/nps_amen_place_data.json exists.\n",
      "NPS Amenities Info/nps_parks_data.json exists.\n"
     ]
    }
   ],
   "source": [
    "# Define JSON files and their corresponding collections with folder paths\n",
    "json_files = {\n",
    "    'activities_parks': 'NPS_Activities_Fees/activities_parks.json',\n",
    "    'activities': 'NPS_Activities_Fees/activities.json',\n",
    "    'feespasses': 'NPS_Activities_Fees/feespasses.json',\n",
    "    'amenities': 'NPS Amenities Info/nps_amenities_data.json',\n",
    "    'amenities_places': 'NPS Amenities Info/nps_amen_place_data.json',\n",
    "    'parks_data': 'NPS Amenities Info/nps_parks_data.json'\n",
    "}\n",
    "\n",
    "# Verify that the JSON files exist\n",
    "for json_file in json_files.values():\n",
    "    if os.path.exists(json_file):\n",
    "        print(f\"{json_file} exists.\")\n",
    "    else:\n",
    "        print(f\"{json_file} does not exist.\")"
   ]
  },
  {
   "cell_type": "code",
   "execution_count": 6,
   "id": "e9928152",
   "metadata": {},
   "outputs": [
    {
     "name": "stdout",
     "output_type": "stream",
     "text": [
      "Data loaded successfully!\n"
     ]
    }
   ],
   "source": [
    "# Load JSON files into MongoDB collections\n",
    "for collection_name, json_file in json_files.items():\n",
    "    if os.path.exists(json_file):\n",
    "        load_json_to_mongo(collection_name, json_file)\n",
    "\n",
    "print(\"Data loaded successfully!\")"
   ]
  },
  {
   "cell_type": "code",
   "execution_count": 7,
   "id": "13de4d7c",
   "metadata": {},
   "outputs": [
    {
     "name": "stdout",
     "output_type": "stream",
     "text": [
      "Collections in the database:\n",
      "feespasses\n",
      "amenities_places\n",
      "activities_parks\n",
      "parks_data\n",
      "amenities\n",
      "activities\n"
     ]
    }
   ],
   "source": [
    "# List all collections in the database\n",
    "collections = db.list_collection_names()\n",
    "print(\"Collections in the database:\")\n",
    "for collection in collections:\n",
    "    print(collection)\n"
   ]
  },
  {
   "cell_type": "code",
   "execution_count": 8,
   "id": "60d2dece",
   "metadata": {},
   "outputs": [
    {
     "data": {
      "text/plain": [
       "{'_id': ObjectId('6699e3aa152a83f053781347'),\n",
       " 'amenity_id': 'A1B0AD01-740C-41E7-8412-FBBEDD5F1443',\n",
       " 'amenity_name': 'ATM/Cash Machine',\n",
       " 'amenity_category': 'Convenience, Souvenirs and Supplies'}"
      ]
     },
     "execution_count": 8,
     "metadata": {},
     "output_type": "execute_result"
    }
   ],
   "source": [
    "# review a document in the amenities collection\n",
    "db.amenities.find_one()"
   ]
  },
  {
   "cell_type": "code",
   "execution_count": 9,
   "id": "d83e16b5",
   "metadata": {},
   "outputs": [
    {
     "data": {
      "text/plain": [
       "{'_id': ObjectId('6699e3aa152a83f053781379'),\n",
       " 'amenity_id': 'A1B0AD01-740C-41E7-8412-FBBEDD5F1443',\n",
       " 'amenity_name': 'ATM/Cash Machine',\n",
       " 'park_code': 'badl',\n",
       " 'park_name': 'Badlands National Park',\n",
       " 'park_states': 'SD',\n",
       " 'park_designation': 'National Park',\n",
       " 'park_url': 'http://www.nps.gov/badl/'}"
      ]
     },
     "execution_count": 9,
     "metadata": {},
     "output_type": "execute_result"
    }
   ],
   "source": [
    "# review a document in the amenities_places collection\n",
    "db.amenities_places.find_one()"
   ]
  },
  {
   "cell_type": "code",
   "execution_count": 10,
   "id": "ea8b3bc5",
   "metadata": {},
   "outputs": [
    {
     "name": "stdout",
     "output_type": "stream",
     "text": [
      "Deleted 1989 documents from amenities_places collection.\n"
     ]
    }
   ],
   "source": [
    "# Find all documents that don't have the designation of \"National Park\"\n",
    "non_national_park_amenities = db['amenities_places'].find({'park_designation': {'$ne': 'National Park'}})\n",
    "\n",
    "# Store the IDs of the deleted documents\n",
    "non_national_park_amenity_ids = [doc['amenity_id'] for doc in non_national_park_amenities]\n",
    "\n",
    "# Delete the documents from the amenities_places collection\n",
    "result = db['amenities_places'].delete_many({'park_designation': {'$ne': 'National Park'}})\n",
    "print(f\"Deleted {result.deleted_count} documents from amenities_places collection.\")"
   ]
  },
  {
   "cell_type": "code",
   "execution_count": 12,
   "id": "5a78fe40",
   "metadata": {},
   "outputs": [
    {
     "name": "stdout",
     "output_type": "stream",
     "text": [
      "Deleted 47 documents from amenities collection.\n"
     ]
    }
   ],
   "source": [
    "# Delete the corresponding documents in the amenities collection\n",
    "if non_national_park_amenity_ids:\n",
    "    result = db['amenities'].delete_many({'amenity_id': {'$in': non_national_park_amenity_ids}})\n",
    "    print(f\"Deleted {result.deleted_count} documents from amenities collection.\")\n",
    "else:\n",
    "    print(\"No documents to delete from amenities collection.\")\n"
   ]
  },
  {
   "cell_type": "code",
   "execution_count": 14,
   "id": "0a6891b3",
   "metadata": {},
   "outputs": [
    {
     "name": "stdout",
     "output_type": "stream",
     "text": [
      "Number of documents with the designation 'National Park' in amenities_places collection: 592\n"
     ]
    }
   ],
   "source": [
    "# Count documents with the designation of \"National Park\" in the amenities_places collection\n",
    "national_park_count = db['amenities_places'].count_documents({'park_designation': 'National Park'})\n",
    "print(f\"Number of documents with the designation 'National Park' in amenities_places collection: {national_park_count}\")\n"
   ]
  }
 ],
 "metadata": {
  "kernelspec": {
   "display_name": "Python 3 (ipykernel)",
   "language": "python",
   "name": "python3"
  },
  "language_info": {
   "codemirror_mode": {
    "name": "ipython",
    "version": 3
   },
   "file_extension": ".py",
   "mimetype": "text/x-python",
   "name": "python",
   "nbconvert_exporter": "python",
   "pygments_lexer": "ipython3",
   "version": "3.10.14"
  }
 },
 "nbformat": 4,
 "nbformat_minor": 5
}
