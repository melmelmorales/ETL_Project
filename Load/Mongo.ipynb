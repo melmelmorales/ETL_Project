{
 "cells": [
  {
   "cell_type": "markdown",
   "id": "064ef857",
   "metadata": {},
   "source": [
    "## Database and Jupyter Notebook Set Up"
   ]
  },
  {
   "cell_type": "code",
   "execution_count": 9,
   "id": "3ecdd008",
   "metadata": {},
   "outputs": [],
   "source": [
    "# Import dependencies\n",
    "from pymongo import MongoClient\n",
    "import csv"
   ]
  },
  {
   "cell_type": "code",
   "execution_count": 10,
   "id": "59390c4a",
   "metadata": {},
   "outputs": [],
   "source": [
    "# Connect to MongoDB\n",
    "client = MongoClient(port=27017)\n",
    "db = client['national_parks_db']"
   ]
  },
  {
   "cell_type": "code",
   "execution_count": 11,
   "id": "55453324",
   "metadata": {},
   "outputs": [
    {
     "name": "stdout",
     "output_type": "stream",
     "text": [
      "Database 'national_parks_db' has been deleted.\n"
     ]
    }
   ],
   "source": [
    "# Drop any previously existing 'national_parks_db' database \n",
    "client.drop_database('national_parks_db') \n",
    "\n",
    "print(\"Database 'national_parks_db' has been deleted.\")"
   ]
  },
  {
   "cell_type": "code",
   "execution_count": 12,
   "id": "3b65e395",
   "metadata": {},
   "outputs": [],
   "source": [
    "# Connect to MongoDB and create database\n",
    "client = MongoClient(port=27017)\n",
    "db = client['national_parks_db']"
   ]
  },
  {
   "cell_type": "code",
   "execution_count": 13,
   "id": "51b41849",
   "metadata": {},
   "outputs": [],
   "source": [
    "# Create the collections in the database\n",
    "nps_amenities_activities = db['Activities_and_Amenities_Collection']\n",
    "nps_entrance_fees = db['Entrance_Fees_Collection']\n"
   ]
  },
  {
   "cell_type": "code",
   "execution_count": 14,
   "id": "c89c3f4f",
   "metadata": {},
   "outputs": [
    {
     "name": "stdout",
     "output_type": "stream",
     "text": [
      "{'_id': ObjectId('669f10e8236df02381add5bb'), 'park_code': 'acad', 'park_states': 'ME', 'park_id': '6DA17C86-088E-4B4D-B862-7C1BD5CF236B', 'park_name': 'Acadia National Park', 'amenity_id': '4E4D076A-6866-46C8-A28B-A129E2B8F3DB', 'amenity_name': 'Accessible Rooms', 'activity_id': '', 'activity_name': '', 'park_designation': 'National Park', 'park_url': 'http://www.nps.gov/acad/', 'park_latitude': '44.409286', 'park_longitude': '-68.247501', 'min_summer_temp': '51.1', 'max_summer_temp': '72.9', 'min_winter_temp': '17.6', 'max_winter_temp': '29.2', 'min_spring_temp': '8.6', 'max_spring_temp': '27.8', 'min_fall_temp': '46.5', 'max_fall_temp': '62.2'}\n"
     ]
    }
   ],
   "source": [
    "# Open the CSV file and insert data into the collection\n",
    "with open('../Transform/transformed_nps_csv_files/nps_amenities_activities_data.csv', 'r') as file:\n",
    "    reader = csv.DictReader(file)\n",
    "    for row in reader:\n",
    "        nps_amenities_activities.insert_one(row)\n",
    "\n",
    "# Confirm the data has been inserted by printing the first document\n",
    "print(nps_amenities_activities.find_one())"
   ]
  },
  {
   "cell_type": "code",
   "execution_count": 15,
   "id": "5ea1a85e",
   "metadata": {},
   "outputs": [
    {
     "name": "stdout",
     "output_type": "stream",
     "text": [
      "{'_id': ObjectId('669f10eb236df02381ade00a'), 'park_code': 'acad', 'total_fees': '91.0', 'average_fees': '13.0', 'pass_fee': '70.0', 'free_park': 'False', 'entrance_pass_description': 'A park entrance pass is required year-round. All vehicles must display a pass clearly visible through the windshield. Display federal lands passes, such as annual and military passes, on your dashboard with the signature and expiration date facing up. Passes are non-transferable and passholder must be present.', 'entrance_fee_description': 'A park entrance pass is required year-round at Acadia National Park. All vehicles must display a pass clearly visible through the windshield. Display federal lands passes, such as annual and military passes, on your dashboard with the signature and expiration date facing up. Passes are non-transferable and passholder must be present. A separate vehicle reservation is also required to drive Cadillac Summit Road from mid-May into October. Vehicle reservations are only sold online in advance and are not available for purchase at the park. In addition to NPS locations in visitor centers and campgrounds, entrance passes are also available for purchase in-person at third-party sellers. These locations are not operated by the NPS and do not offer federal lands passes -- * Jordan Pond Gift Shop * Acadia Regional Chamber of Commerce at Thompson Island * Bar Harbor Chamber of Commerce, Cottage Street * Ellsworth Chamber of Commerce * Mount Desert Chamber of Commerce * Southwest Harbor/Tremont Chamber of Commerce', 'fees_url': 'https://www.nps.gov/acad/planyourvisit/fees.htm', 'park_id': '6DA17C86-088E-4B4D-B862-7C1BD5CF236B', 'park_url': 'https://www.nps.gov/acad/index.htm', 'park_latitude': '44.409286', 'park_longitude': '-68.247501', 'park_designation': 'National Park', 'park_name': 'Acadia National Park', 'min_summer_temp': '51.1', 'max_summer_temp': '72.9', 'min_winter_temp': '17.6', 'max_winter_temp': '29.2', 'min_spring_temp': '8.6', 'max_spring_temp': '27.8', 'min_fall_temp': '46.5', 'max_fall_temp': '62.2'}\n"
     ]
    }
   ],
   "source": [
    "# Open the CSV file and insert data into the collection\n",
    "with open('../Transform/transformed_nps_csv_files/nps_entrance_fees.csv', 'r') as file:\n",
    "    reader = csv.DictReader(file)\n",
    "    for row in reader:\n",
    "        nps_entrance_fees.insert_one(row)\n",
    "\n",
    "# Confirm the data has been inserted by printing the first document\n",
    "print(nps_entrance_fees.find_one())"
   ]
  },
  {
   "cell_type": "code",
   "execution_count": 16,
   "id": "13de4d7c",
   "metadata": {},
   "outputs": [
    {
     "name": "stdout",
     "output_type": "stream",
     "text": [
      "Collections in the database:\n",
      "Entrance_Fees_Collection\n",
      "Activities_and_Amenities_Collection\n"
     ]
    }
   ],
   "source": [
    "# List all collections in the database\n",
    "collections = db.list_collection_names()\n",
    "print(\"Collections in the database:\")\n",
    "for collection in collections:\n",
    "    print(collection)\n"
   ]
  },
  {
   "cell_type": "code",
   "execution_count": 17,
   "id": "60d2dece",
   "metadata": {},
   "outputs": [
    {
     "data": {
      "text/plain": [
       "{'_id': ObjectId('669f10e8236df02381add5bb'),\n",
       " 'park_code': 'acad',\n",
       " 'park_states': 'ME',\n",
       " 'park_id': '6DA17C86-088E-4B4D-B862-7C1BD5CF236B',\n",
       " 'park_name': 'Acadia National Park',\n",
       " 'amenity_id': '4E4D076A-6866-46C8-A28B-A129E2B8F3DB',\n",
       " 'amenity_name': 'Accessible Rooms',\n",
       " 'activity_id': '',\n",
       " 'activity_name': '',\n",
       " 'park_designation': 'National Park',\n",
       " 'park_url': 'http://www.nps.gov/acad/',\n",
       " 'park_latitude': '44.409286',\n",
       " 'park_longitude': '-68.247501',\n",
       " 'min_summer_temp': '51.1',\n",
       " 'max_summer_temp': '72.9',\n",
       " 'min_winter_temp': '17.6',\n",
       " 'max_winter_temp': '29.2',\n",
       " 'min_spring_temp': '8.6',\n",
       " 'max_spring_temp': '27.8',\n",
       " 'min_fall_temp': '46.5',\n",
       " 'max_fall_temp': '62.2'}"
      ]
     },
     "execution_count": 17,
     "metadata": {},
     "output_type": "execute_result"
    }
   ],
   "source": [
    "# review a document in the national parks collection\n",
    "db.Activities_and_Amenities_Collection.find_one()"
   ]
  },
  {
   "cell_type": "code",
   "execution_count": 18,
   "id": "822c2bf9",
   "metadata": {},
   "outputs": [
    {
     "data": {
      "text/plain": [
       "{'_id': ObjectId('669f10eb236df02381ade00a'),\n",
       " 'park_code': 'acad',\n",
       " 'total_fees': '91.0',\n",
       " 'average_fees': '13.0',\n",
       " 'pass_fee': '70.0',\n",
       " 'free_park': 'False',\n",
       " 'entrance_pass_description': 'A park entrance pass is required year-round. All vehicles must display a pass clearly visible through the windshield. Display federal lands passes, such as annual and military passes, on your dashboard with the signature and expiration date facing up. Passes are non-transferable and passholder must be present.',\n",
       " 'entrance_fee_description': 'A park entrance pass is required year-round at Acadia National Park. All vehicles must display a pass clearly visible through the windshield. Display federal lands passes, such as annual and military passes, on your dashboard with the signature and expiration date facing up. Passes are non-transferable and passholder must be present. A separate vehicle reservation is also required to drive Cadillac Summit Road from mid-May into October. Vehicle reservations are only sold online in advance and are not available for purchase at the park. In addition to NPS locations in visitor centers and campgrounds, entrance passes are also available for purchase in-person at third-party sellers. These locations are not operated by the NPS and do not offer federal lands passes -- * Jordan Pond Gift Shop * Acadia Regional Chamber of Commerce at Thompson Island * Bar Harbor Chamber of Commerce, Cottage Street * Ellsworth Chamber of Commerce * Mount Desert Chamber of Commerce * Southwest Harbor/Tremont Chamber of Commerce',\n",
       " 'fees_url': 'https://www.nps.gov/acad/planyourvisit/fees.htm',\n",
       " 'park_id': '6DA17C86-088E-4B4D-B862-7C1BD5CF236B',\n",
       " 'park_url': 'https://www.nps.gov/acad/index.htm',\n",
       " 'park_latitude': '44.409286',\n",
       " 'park_longitude': '-68.247501',\n",
       " 'park_designation': 'National Park',\n",
       " 'park_name': 'Acadia National Park',\n",
       " 'min_summer_temp': '51.1',\n",
       " 'max_summer_temp': '72.9',\n",
       " 'min_winter_temp': '17.6',\n",
       " 'max_winter_temp': '29.2',\n",
       " 'min_spring_temp': '8.6',\n",
       " 'max_spring_temp': '27.8',\n",
       " 'min_fall_temp': '46.5',\n",
       " 'max_fall_temp': '62.2'}"
      ]
     },
     "execution_count": 18,
     "metadata": {},
     "output_type": "execute_result"
    }
   ],
   "source": [
    "# review a document in the national parks collection\n",
    "db.Entrance_Fees_Collection.find_one()"
   ]
  },
  {
   "cell_type": "code",
   "execution_count": 19,
   "id": "66f18822",
   "metadata": {},
   "outputs": [
    {
     "name": "stdout",
     "output_type": "stream",
     "text": [
      "Number of documents in the national parks collection: 2639\n",
      "Number of documents with the designation 'National Park' in the national parks collection: 51\n"
     ]
    }
   ],
   "source": [
    "# Count the documents with the designation of \"National Park\" present in all three collections: amenities, amenities_places, and parks_data\n",
    "count_amen_act_data = db['Activities_and_Amenities_Collection'].count_documents({})\n",
    "count_entrance_fee_data = db['Entrance_Fees_Collection'].count_documents({})\n",
    "\n",
    "print(f\"Number of documents in the national parks collection: {count_amen_act_data}\")\n",
    "print(f\"Number of documents with the designation 'National Park' in the national parks collection: {count_entrance_fee_data}\")\n"
   ]
  },
  {
   "cell_type": "markdown",
   "id": "6c3b3b48",
   "metadata": {},
   "source": [
    "### Time to add some data analysis. Tutor suggested using Seaborn library (since we need one we haven't used before in class) in place of MatPlotLib. said they work nearly identically. Planning to use this to generate descriptive stats visualizations (pie charts, bar graphs, etc). Thoughts?"
   ]
  }
 ],
 "metadata": {
  "kernelspec": {
   "display_name": "Python 3 (ipykernel)",
   "language": "python",
   "name": "python3"
  },
  "language_info": {
   "codemirror_mode": {
    "name": "ipython",
    "version": 3
   },
   "file_extension": ".py",
   "mimetype": "text/x-python",
   "name": "python",
   "nbconvert_exporter": "python",
   "pygments_lexer": "ipython3",
   "version": "3.10.14"
  }
 },
 "nbformat": 4,
 "nbformat_minor": 5
}
