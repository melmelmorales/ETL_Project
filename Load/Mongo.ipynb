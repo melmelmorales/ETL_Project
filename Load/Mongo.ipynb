{
 "cells": [
  {
   "cell_type": "markdown",
   "id": "064ef857",
   "metadata": {},
   "source": [
    "## Database and Jupyter Notebook Set Up"
   ]
  },
  {
   "cell_type": "code",
   "execution_count": 1,
   "id": "3ecdd008",
   "metadata": {},
   "outputs": [],
   "source": [
    "# Import dependencies\n",
    "from pymongo import MongoClient\n",
    "from pprint import pprint\n",
    "import json\n",
    "import os"
   ]
  },
  {
   "cell_type": "code",
   "execution_count": 2,
   "id": "59390c4a",
   "metadata": {},
   "outputs": [],
   "source": [
    "# Connect to MongoDB\n",
    "client = MongoClient(port=27017)\n",
    "db = client['national_parks_db']"
   ]
  },
  {
   "cell_type": "code",
   "execution_count": 3,
   "id": "55453324",
   "metadata": {},
   "outputs": [
    {
     "name": "stdout",
     "output_type": "stream",
     "text": [
      "Database 'national_parks_db' has been deleted.\n"
     ]
    }
   ],
   "source": [
    "# Drop any previously existing 'national_parks_db' database \n",
    "client.drop_database('national_parks_db') \n",
    "\n",
    "print(\"Database 'national_parks_db' has been deleted.\")"
   ]
  },
  {
   "cell_type": "code",
   "execution_count": 4,
   "id": "3b65e395",
   "metadata": {},
   "outputs": [],
   "source": [
    "# Connect to MongoDB and create database\n",
    "client = MongoClient(port=27017)\n",
    "db = client['national_parks_db']"
   ]
  },
  {
   "cell_type": "code",
   "execution_count": 5,
   "id": "2c6f3b4f",
   "metadata": {},
   "outputs": [],
   "source": [
    "# Function to load JSON data into MongoDB from the transformed file\n",
    "with open('NPS_Cleaned_Data.json', 'r') as file:\n",
    "    data = json.load(file)"
   ]
  },
  {
   "cell_type": "code",
   "execution_count": 6,
   "id": "93d7f9b1",
   "metadata": {},
   "outputs": [
    {
     "name": "stdout",
     "output_type": "stream",
     "text": [
      "JSON data imported into the national_parks_db database successfully.\n"
     ]
    }
   ],
   "source": [
    "# Create a collection named 'national_parks_collection' and insert the data\n",
    "collection = db[\"national_parks_collection\"]\n",
    "collection.insert_many(data)\n",
    "\n",
    "print(\"JSON data imported into the national_parks_db database successfully.\")"
   ]
  },
  {
   "cell_type": "code",
   "execution_count": 7,
   "id": "13de4d7c",
   "metadata": {},
   "outputs": [
    {
     "name": "stdout",
     "output_type": "stream",
     "text": [
      "Collections in the database:\n",
      "national_parks_collection\n"
     ]
    }
   ],
   "source": [
    "# List all collections in the database\n",
    "collections = db.list_collection_names()\n",
    "print(\"Collections in the database:\")\n",
    "for collection in collections:\n",
    "    print(collection)\n"
   ]
  },
  {
   "cell_type": "code",
   "execution_count": 8,
   "id": "60d2dece",
   "metadata": {},
   "outputs": [
    {
     "data": {
      "text/plain": [
       "{'_id': ObjectId('669c9b16be1e7c26f8d9eccf'),\n",
       " 'Park Designation': 'National Park',\n",
       " 'Park Code': 'badl',\n",
       " 'Park Name': 'Badlands National Park',\n",
       " 'Present in States': 'SD',\n",
       " 'Free Entrance': False,\n",
       " 'Entrance Fee': 355.0,\n",
       " 'Park Website': 'http://www.nps.gov/badl/',\n",
       " 'Activity Option': 'Astronomy',\n",
       " 'Available Amenity': 'ATM/Cash Machine',\n",
       " 'Park Latitude': 43.68584846,\n",
       " 'Park Longitude': -102.482942,\n",
       " 'Entrance Fees': '$355.00'}"
      ]
     },
     "execution_count": 8,
     "metadata": {},
     "output_type": "execute_result"
    }
   ],
   "source": [
    "# review a document in the national parks collection\n",
    "db.national_parks_collection.find_one()"
   ]
  },
  {
   "cell_type": "code",
   "execution_count": 10,
   "id": "6f72043e",
   "metadata": {},
   "outputs": [
    {
     "name": "stdout",
     "output_type": "stream",
     "text": [
      "Deleted 0 documents from the national_parks_collection.\n"
     ]
    }
   ],
   "source": [
    "# Find all documents that don't have the designation of \"National Park\" in the national parks collection\n",
    "non_national_park_docs = db['national_parks_collection'].find({'park_designation': {'$ne': 'National Park'}})\n",
    "\n",
    "# Store the IDs of the deleted documents from the national parks collection\n",
    "non_national_park_ids = [doc['_id'] for doc in non_national_park_docs]\n",
    "\n",
    "# Delete the documents from the national parks collection\n",
    "results = db['national parks collection'].delete_many({'park_designation': {'$ne': 'National Park'}})\n",
    "print(f\"Deleted {results.deleted_count} documents from the national_parks_collection.\")"
   ]
  },
  {
   "cell_type": "code",
   "execution_count": 11,
   "id": "66f18822",
   "metadata": {},
   "outputs": [
    {
     "name": "stdout",
     "output_type": "stream",
     "text": [
      "Number of documents in the national parks collection: 0\n",
      "Number of documents with the designation 'National Park' in the national parks collection: 0\n"
     ]
    }
   ],
   "source": [
    "# Count the documents with the designation of \"National Park\" present in all three collections: amenities, amenities_places, and parks_data\n",
    "count_nat_parks = db['national parks collection'].count_documents({})\n",
    "count_parks_data = db['national parks collection'].count_documents({'park_designation': 'National Park'})\n",
    "\n",
    "print(f\"Number of documents in the national parks collection: {count_nat_parks}\")\n",
    "print(f\"Number of documents with the designation 'National Park' in the national parks collection: {count_parks_data}\")\n"
   ]
  },
  {
   "cell_type": "markdown",
   "id": "6c3b3b48",
   "metadata": {},
   "source": [
    "### Time to add some data analysis. Tutor suggested using Seaborn library (since we need one we haven't used before in class) in place of MatPlotLib. said they work nearly identically. Planning to use this to generate descriptive stats visualizations (pie charts, bar graphs, etc). Thoughts?"
   ]
  }
 ],
 "metadata": {
  "kernelspec": {
   "display_name": "Python 3 (ipykernel)",
   "language": "python",
   "name": "python3"
  },
  "language_info": {
   "codemirror_mode": {
    "name": "ipython",
    "version": 3
   },
   "file_extension": ".py",
   "mimetype": "text/x-python",
   "name": "python",
   "nbconvert_exporter": "python",
   "pygments_lexer": "ipython3",
   "version": "3.10.14"
  }
 },
 "nbformat": 4,
 "nbformat_minor": 5
}
