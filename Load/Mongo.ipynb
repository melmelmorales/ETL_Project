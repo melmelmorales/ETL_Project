{
 "cells": [
  {
   "cell_type": "markdown",
   "id": "064ef857",
   "metadata": {},
   "source": [
    "## Database and Jupyter Notebook Set Up"
   ]
  },
  {
   "cell_type": "code",
   "execution_count": 1,
   "id": "3ecdd008",
   "metadata": {},
   "outputs": [],
   "source": [
    "# Import dependencies\n",
    "from pymongo import MongoClient\n",
    "from pprint import pprint\n",
    "import json\n",
    "import os\n",
    "import csv"
   ]
  },
  {
   "cell_type": "code",
   "execution_count": 2,
   "id": "59390c4a",
   "metadata": {},
   "outputs": [],
   "source": [
    "# Connect to MongoDB\n",
    "client = MongoClient(port=27017)\n",
    "db = client['national_parks_db']"
   ]
  },
  {
   "cell_type": "code",
   "execution_count": 3,
   "id": "55453324",
   "metadata": {},
   "outputs": [
    {
     "name": "stdout",
     "output_type": "stream",
     "text": [
      "Database 'national_parks_db' has been deleted.\n"
     ]
    }
   ],
   "source": [
    "# Drop any previously existing 'national_parks_db' database \n",
    "client.drop_database('national_parks_db') \n",
    "\n",
    "print(\"Database 'national_parks_db' has been deleted.\")"
   ]
  },
  {
   "cell_type": "code",
   "execution_count": 4,
   "id": "3b65e395",
   "metadata": {},
   "outputs": [],
   "source": [
    "# Connect to MongoDB and create database\n",
    "client = MongoClient(port=27017)\n",
    "db = client['national_parks_db']"
   ]
  },
  {
   "cell_type": "code",
   "execution_count": 6,
   "id": "51b41849",
   "metadata": {},
   "outputs": [],
   "source": [
    "# Create the collections in the database\n",
    "nps_amenities_activities = db['NPS_Park_Amenities_and_Activities']\n",
    "nps_entrance_fees = db['NPS_Park_EntranceFees']\n",
    "nps_things_to_do = db['NPS_Things_To_Do_While_Visiting']"
   ]
  },
  {
   "cell_type": "code",
   "execution_count": 9,
   "id": "c89c3f4f",
   "metadata": {},
   "outputs": [
    {
     "name": "stdout",
     "output_type": "stream",
     "text": [
      "{'_id': ObjectId('669f05fad4000cbd7e187ede'), 'park_code': 'acad', 'amenity_id': '4E4D076A-6866-46C8-A28B-A129E2B8F3DB', 'amenity_name': 'Accessible Rooms', 'park_states': 'ME', 'park_id': '6DA17C86-088E-4B4D-B862-7C1BD5CF236B', 'park_latitude': '44.409286', 'park_longitude': '-68.247501', 'park_designation': 'National Park', 'park_url': 'http://www.nps.gov/acad/', 'park_name': 'Acadia National Park', 'min_summer_temp': '51.1', 'max_summer_temp': '72.9', 'min_winter_temp': '17.6', 'max_winter_temp': '29.2', 'min_spring_temp': '8.6', 'max_spring_temp': '27.8', 'min_fall_temp': '46.5', 'max_fall_temp': '62.2', 'activity_id': '', 'activity_name': ''}\n"
     ]
    }
   ],
   "source": [
    "# Open the CSV file and insert data into the collection\n",
    "with open('../Transform/transformed_nps_csv_files/nps_amenities_activities.csv', 'r') as file:\n",
    "    reader = csv.DictReader(file)\n",
    "    for row in reader:\n",
    "        nps_entrance_fees.insert_one(row)\n",
    "\n",
    "# Confirm the data has been inserted by printing the first document\n",
    "print(nps_entrance_fees.find_one())"
   ]
  },
  {
   "cell_type": "markdown",
   "id": "ed86de9e",
   "metadata": {},
   "source": [
    "Pick up code edits here"
   ]
  },
  {
   "cell_type": "code",
   "execution_count": 9,
   "id": "13de4d7c",
   "metadata": {},
   "outputs": [
    {
     "name": "stdout",
     "output_type": "stream",
     "text": [
      "Collections in the database:\n",
      "national_parks_collection\n"
     ]
    }
   ],
   "source": [
    "# List all collections in the database\n",
    "collections = db.list_collection_names()\n",
    "print(\"Collections in the database:\")\n",
    "for collection in collections:\n",
    "    print(collection)\n"
   ]
  },
  {
   "cell_type": "code",
   "execution_count": 10,
   "id": "60d2dece",
   "metadata": {},
   "outputs": [
    {
     "data": {
      "text/plain": [
       "{'_id': ObjectId('669d806fe90739319025cd9f'),\n",
       " 'Park Designation': 'National Park',\n",
       " 'Park Code': 'badl',\n",
       " 'Park Name': 'Badlands National Park',\n",
       " 'Present in States': 'SD',\n",
       " 'Free Entrance': False,\n",
       " 'Entrance Fee': 355.0,\n",
       " 'Park Website': 'http://www.nps.gov/badl/',\n",
       " 'Activity Option': 'Astronomy',\n",
       " 'Available Amenity': 'ATM/Cash Machine',\n",
       " 'Park Latitude': 43.68584846,\n",
       " 'Park Longitude': -102.482942,\n",
       " 'Entrance Fees': '$355.00'}"
      ]
     },
     "execution_count": 10,
     "metadata": {},
     "output_type": "execute_result"
    }
   ],
   "source": [
    "# review a document in the national parks collection\n",
    "db.national_parks_collection.find_one()"
   ]
  },
  {
   "cell_type": "code",
   "execution_count": 11,
   "id": "6f72043e",
   "metadata": {},
   "outputs": [
    {
     "name": "stdout",
     "output_type": "stream",
     "text": [
      "Deleted 0 documents from the national_parks_collection.\n"
     ]
    }
   ],
   "source": [
    "# Find all documents that don't have the designation of \"National Park\" in the national parks collection\n",
    "non_national_park_docs = db['national_parks_collection'].find({'park_designation': {'$ne': 'National Park'}})\n",
    "\n",
    "# Store the IDs of the deleted documents from the national parks collection\n",
    "non_national_park_ids = [doc['_id'] for doc in non_national_park_docs]\n",
    "\n",
    "# Delete the documents from the national parks collection\n",
    "results = db['national parks collection'].delete_many({'park_designation': {'$ne': 'National Park'}})\n",
    "print(f\"Deleted {results.deleted_count} documents from the national_parks_collection.\")"
   ]
  },
  {
   "cell_type": "code",
   "execution_count": 12,
   "id": "66f18822",
   "metadata": {},
   "outputs": [
    {
     "name": "stdout",
     "output_type": "stream",
     "text": [
      "Number of documents in the national parks collection: 0\n",
      "Number of documents with the designation 'National Park' in the national parks collection: 0\n"
     ]
    }
   ],
   "source": [
    "# Count the documents with the designation of \"National Park\" present in all three collections: amenities, amenities_places, and parks_data\n",
    "count_nat_parks = db['national parks collection'].count_documents({})\n",
    "count_parks_data = db['national parks collection'].count_documents({'park_designation': 'National Park'})\n",
    "\n",
    "print(f\"Number of documents in the national parks collection: {count_nat_parks}\")\n",
    "print(f\"Number of documents with the designation 'National Park' in the national parks collection: {count_parks_data}\")\n"
   ]
  },
  {
   "cell_type": "markdown",
   "id": "6c3b3b48",
   "metadata": {},
   "source": [
    "### Time to add some data analysis. Tutor suggested using Seaborn library (since we need one we haven't used before in class) in place of MatPlotLib. said they work nearly identically. Planning to use this to generate descriptive stats visualizations (pie charts, bar graphs, etc). Thoughts?"
   ]
  }
 ],
 "metadata": {
  "kernelspec": {
   "display_name": "Python 3 (ipykernel)",
   "language": "python",
   "name": "python3"
  },
  "language_info": {
   "codemirror_mode": {
    "name": "ipython",
    "version": 3
   },
   "file_extension": ".py",
   "mimetype": "text/x-python",
   "name": "python",
   "nbconvert_exporter": "python",
   "pygments_lexer": "ipython3",
   "version": "3.10.14"
  }
 },
 "nbformat": 4,
 "nbformat_minor": 5
}
