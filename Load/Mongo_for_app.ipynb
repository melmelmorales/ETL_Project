{
 "cells": [
  {
   "cell_type": "markdown",
   "id": "064ef857",
   "metadata": {},
   "source": [
    "## Database and Jupyter Notebook Set Up"
   ]
  },
  {
   "cell_type": "code",
   "execution_count": 14,
   "id": "3ecdd008",
   "metadata": {},
   "outputs": [
    {
     "name": "stdout",
     "output_type": "stream",
     "text": [
      "dotenv loaded: True\n"
     ]
    }
   ],
   "source": [
    "# Import dependencies\n",
    "from pymongo import MongoClient\n",
    "import pandas as pd\n",
    "from dotenv import load_dotenv\n",
    "from pathlib import Path\n",
    "import os\n",
    "\n",
    "# Load environment variables\n",
    "dotenv_loaded = load_dotenv()\n",
    "print(f\"dotenv loaded: {dotenv_loaded}\")"
   ]
  },
  {
   "cell_type": "code",
   "execution_count": 15,
   "id": "55453324",
   "metadata": {},
   "outputs": [
    {
     "name": "stdout",
     "output_type": "stream",
     "text": [
      "Database 'national_parks_db' has been deleted.\n"
     ]
    }
   ],
   "source": [
    "# Drop any previously existing 'national_parks_db' database \n",
    "client.drop_database('national_parks_db') \n",
    "\n",
    "print(\"Database 'national_parks_db' has been deleted.\")"
   ]
  },
  {
   "cell_type": "code",
   "execution_count": 16,
   "id": "49bf9aae",
   "metadata": {},
   "outputs": [],
   "source": [
    "# Connect to MongoDB\n",
    "client = MongoClient(port=27017)\n",
    "db = client['national_parks_db']"
   ]
  },
  {
   "cell_type": "code",
   "execution_count": 17,
   "id": "3b65e395",
   "metadata": {},
   "outputs": [],
   "source": [
    "# Define the directory path for the CSV files\n",
    "directory_path = Path(\"../Transform/separate_nps_csv_files\")\n",
    "\n",
    "# Function to read CSV and insert into MongoDB\n",
    "def update_collection_from_csv(db, collection_name, csv_path):\n",
    "    df = pd.read_csv(csv_path)\n",
    "    collection = db[collection_name]\n",
    "    collection.delete_many({})  # Clear existing data\n",
    "    collection.insert_many(df.to_dict('records'))\n"
   ]
  },
  {
   "cell_type": "code",
   "execution_count": 18,
   "id": "db8a783a",
   "metadata": {},
   "outputs": [],
   "source": [
    "# Update MongoDB collections\n",
    "update_collection_from_csv(db, 'Amenities_Collection', directory_path / 'nps_separate_amenities_data.csv')\n",
    "update_collection_from_csv(db, 'Activities_Collection', directory_path / 'nps_separate_activities_data.csv')\n",
    "update_collection_from_csv(db, 'Activities_and_Amenities_Collection', directory_path / 'nps_separate_amenities_activities_data.csv')\n",
    "update_collection_from_csv(db, 'Entrance_Fees_Collection', directory_path / 'nps_separate_entrance_fees.csv')\n"
   ]
  },
  {
   "cell_type": "code",
   "execution_count": 19,
   "id": "f555f1c0",
   "metadata": {},
   "outputs": [
    {
     "name": "stdout",
     "output_type": "stream",
     "text": [
      "First document in Amenities_Collection: {'_id': ObjectId('66a05eae9fe5260c453ff856'), 'amenity_id': 'A1B0AD01-740C-41E7-8412-FBBEDD5F1443', 'amenity_name': 'ATM/Cash Machine', 'park_code': 'badl', 'park_states': 'SD', 'park_id': 'B170CCF7-7AB9-48FF-950E-31815FD4DBB2', 'park_latitude': 43.68584846, 'park_longitude': -102.482942, 'park_name': 'Badlands National Park', 'park_designation': 'National Park', 'park_url': 'http://www.nps.gov/badl/', 'min_summer_temp': 56.2, 'max_summer_temp': 79.2, 'min_winter_temp': 18.0, 'max_winter_temp': 25.9, 'min_spring_temp': 12.5, 'max_spring_temp': 41.4, 'min_fall_temp': 46.9, 'max_fall_temp': 60.8}\n",
      "First document in Activities_Collection: {'_id': ObjectId('66a05eae9fe5260c453fffa3'), 'activity_id': '09DF0950-D319-4557-A57E-04CD2F63FF42', 'activity_name': 'Arts and Culture', 'park_code': 'acad', 'park_states': 'ME', 'park_id': '6DA17C86-088E-4B4D-B862-7C1BD5CF236B', 'park_latitude': 44.409286, 'park_longitude': -68.247501, 'park_designation': 'National Park', 'park_name': 'Acadia National Park', 'park_url': 'https://www.nps.gov/acad/index.htm', 'min_summer_temp': 51.1, 'max_summer_temp': 72.9, 'min_winter_temp': 17.6, 'max_winter_temp': 29.2, 'min_spring_temp': 8.6, 'max_spring_temp': 27.8, 'min_fall_temp': 46.5, 'max_fall_temp': 62.2}\n",
      "First document in Activities_and_Amenities_Collection: {'_id': ObjectId('66a05eae9fe5260c454002a4'), 'park_code': 'badl', 'park_states': 'SD', 'park_id': 'B170CCF7-7AB9-48FF-950E-31815FD4DBB2', 'park_name': 'Badlands National Park', 'amenity_id': 'A1B0AD01-740C-41E7-8412-FBBEDD5F1443', 'amenity_name': 'ATM/Cash Machine', 'activity_id': nan, 'activity_name': nan, 'park_designation': 'National Park', 'park_url': 'http://www.nps.gov/badl/', 'park_latitude': 43.68584846, 'park_longitude': -102.482942, 'min_summer_temp': 56.2, 'max_summer_temp': 79.2, 'min_winter_temp': 18.0, 'max_winter_temp': 25.9, 'min_spring_temp': 12.5, 'max_spring_temp': 41.4, 'min_fall_temp': 46.9, 'max_fall_temp': 60.8}\n",
      "First document in Entrance_Fees_Collection: {'_id': ObjectId('66a05eae9fe5260c45400cf2'), 'park_code': 'acad', 'total_fees': 91.0, 'average_fees': 13.0, 'pass_fee': 70.0, 'free_park': False, 'entrance_pass_description': 'A park entrance pass is required year-round. All vehicles must display a pass clearly visible through the windshield. Display federal lands passes, such as annual and military passes, on your dashboard with the signature and expiration date facing up. Passes are non-transferable and passholder must be present.', 'entrance_fee_description': 'A park entrance pass is required year-round at Acadia National Park. All vehicles must display a pass clearly visible through the windshield. Display federal lands passes, such as annual and military passes, on your dashboard with the signature and expiration date facing up. Passes are non-transferable and passholder must be present. A separate vehicle reservation is also required to drive Cadillac Summit Road from mid-May into October. Vehicle reservations are only sold online in advance and are not available for purchase at the park. In addition to NPS locations in visitor centers and campgrounds, entrance passes are also available for purchase in-person at third-party sellers. These locations are not operated by the NPS and do not offer federal lands passes -- * Jordan Pond Gift Shop * Acadia Regional Chamber of Commerce at Thompson Island * Bar Harbor Chamber of Commerce, Cottage Street * Ellsworth Chamber of Commerce * Mount Desert Chamber of Commerce * Southwest Harbor/Tremont Chamber of Commerce', 'fees_url': 'https://www.nps.gov/acad/planyourvisit/fees.htm', 'park_id': '6DA17C86-088E-4B4D-B862-7C1BD5CF236B', 'park_url': 'https://www.nps.gov/acad/index.htm', 'park_name': 'Acadia National Park', 'park_latitude': 44.409286, 'park_longitude': -68.247501, 'park_designation': 'National Park', 'min_summer_temp': 51.1, 'max_summer_temp': 72.9, 'min_winter_temp': 17.6, 'max_winter_temp': 29.2, 'min_spring_temp': 8.6, 'max_spring_temp': 27.8, 'min_fall_temp': 46.5, 'max_fall_temp': 62.2}\n"
     ]
    }
   ],
   "source": [
    "# Confirm the data has been inserted by printing the first document from each collection\n",
    "print(\"First document in Amenities_Collection:\", db['Amenities_Collection'].find_one())\n",
    "print(\"First document in Activities_Collection:\", db['Activities_Collection'].find_one())\n",
    "print(\"First document in Activities_and_Amenities_Collection:\", db['Activities_and_Amenities_Collection'].find_one())\n",
    "print(\"First document in Entrance_Fees_Collection:\", db['Entrance_Fees_Collection'].find_one())\n"
   ]
  },
  {
   "cell_type": "code",
   "execution_count": 20,
   "id": "86293302",
   "metadata": {},
   "outputs": [
    {
     "name": "stdout",
     "output_type": "stream",
     "text": [
      "Collections in the database:\n",
      "Entrance_Fees_Collection\n",
      "Amenities_Collection\n",
      "Activities_Collection\n",
      "Activities_and_Amenities_Collection\n",
      "MongoDB collections have been updated with the new data.\n"
     ]
    }
   ],
   "source": [
    "# List all collections in the database\n",
    "collections = db.list_collection_names()\n",
    "print(\"Collections in the database:\")\n",
    "for collection in collections:\n",
    "    print(collection)\n",
    "\n",
    "print(\"MongoDB collections have been updated with the new data.\")\n"
   ]
  }
 ],
 "metadata": {
  "kernelspec": {
   "display_name": "Python 3 (ipykernel)",
   "language": "python",
   "name": "python3"
  },
  "language_info": {
   "codemirror_mode": {
    "name": "ipython",
    "version": 3
   },
   "file_extension": ".py",
   "mimetype": "text/x-python",
   "name": "python",
   "nbconvert_exporter": "python",
   "pygments_lexer": "ipython3",
   "version": "3.10.14"
  }
 },
 "nbformat": 4,
 "nbformat_minor": 5
}
